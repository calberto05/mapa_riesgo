{
 "cells": [
  {
   "cell_type": "code",
   "execution_count": 110,
   "metadata": {},
   "outputs": [],
   "source": [
    "import pandas as pd\n",
    "import os"
   ]
  },
  {
   "cell_type": "code",
   "execution_count": 111,
   "metadata": {},
   "outputs": [],
   "source": [
    "def load_data(file):\n",
    "    data = pd.read_csv(f\"velocidades/{file}\")\n",
    "    return data"
   ]
  },
  {
   "cell_type": "code",
   "execution_count": 112,
   "metadata": {},
   "outputs": [],
   "source": [
    "datasets = []\n",
    "for file in os.listdir(\"velocidades\"):\n",
    "    datasets.append(load_data(file))"
   ]
  },
  {
   "cell_type": "code",
   "execution_count": 113,
   "metadata": {},
   "outputs": [],
   "source": [
    "data = pd.concat(datasets)"
   ]
  },
  {
   "cell_type": "code",
   "execution_count": 114,
   "metadata": {},
   "outputs": [
    {
     "name": "stdout",
     "output_type": "stream",
     "text": [
      "<class 'pandas.core.frame.DataFrame'>\n",
      "Index: 21552 entries, 0 to 623\n",
      "Data columns (total 9 columns):\n",
      " #   Column                           Non-Null Count  Dtype         \n",
      "---  ------                           --------------  -----         \n",
      " 0   Street Name                      21552 non-null  object        \n",
      " 1   Latitud                          21552 non-null  object        \n",
      " 2   Longitud                         21552 non-null  float64       \n",
      " 3   Timestamp                        21552 non-null  datetime64[ns]\n",
      " 4   Current Travel Time (seconds)    21552 non-null  object        \n",
      " 5   Free Flow Travel Time (seconds)  21552 non-null  object        \n",
      " 6   Distance (meters)                21552 non-null  object        \n",
      " 7   Current Speed (km/h)             21552 non-null  object        \n",
      " 8   Free Flow Speed (km/h)           21552 non-null  object        \n",
      "dtypes: datetime64[ns](1), float64(1), object(7)\n",
      "memory usage: 1.6+ MB\n"
     ]
    }
   ],
   "source": [
    "data[\"Timestamp\"] = pd.to_datetime(data[\"Timestamp\"])\n",
    "data.info()"
   ]
  },
  {
   "cell_type": "code",
   "execution_count": 115,
   "metadata": {},
   "outputs": [],
   "source": [
    "# ver fechas unicas\n",
    "data[\"dia\"] = data[\"Timestamp\"].dt.date"
   ]
  },
  {
   "cell_type": "code",
   "execution_count": 116,
   "metadata": {},
   "outputs": [
    {
     "data": {
      "text/html": [
       "<div>\n",
       "<style scoped>\n",
       "    .dataframe tbody tr th:only-of-type {\n",
       "        vertical-align: middle;\n",
       "    }\n",
       "\n",
       "    .dataframe tbody tr th {\n",
       "        vertical-align: top;\n",
       "    }\n",
       "\n",
       "    .dataframe thead th {\n",
       "        text-align: right;\n",
       "    }\n",
       "</style>\n",
       "<table border=\"1\" class=\"dataframe\">\n",
       "  <thead>\n",
       "    <tr style=\"text-align: right;\">\n",
       "      <th></th>\n",
       "      <th>Street Name</th>\n",
       "      <th>Latitud</th>\n",
       "      <th>Longitud</th>\n",
       "      <th>Timestamp</th>\n",
       "      <th>Current Travel Time (seconds)</th>\n",
       "      <th>Free Flow Travel Time (seconds)</th>\n",
       "      <th>Distance (meters)</th>\n",
       "      <th>Current Speed (km/h)</th>\n",
       "      <th>Free Flow Speed (km/h)</th>\n",
       "      <th>dia</th>\n",
       "    </tr>\n",
       "  </thead>\n",
       "  <tbody>\n",
       "    <tr>\n",
       "      <th>0</th>\n",
       "      <td>Av. Insurgentes</td>\n",
       "      <td>19.4037031532808</td>\n",
       "      <td>-99.169270</td>\n",
       "      <td>2024-09-12 18:12:24.830314</td>\n",
       "      <td>555</td>\n",
       "      <td>442</td>\n",
       "      <td>2252</td>\n",
       "      <td>14.607567567567568</td>\n",
       "      <td>18.342081447963803</td>\n",
       "      <td>2024-09-12</td>\n",
       "    </tr>\n",
       "    <tr>\n",
       "      <th>1</th>\n",
       "      <td>Av. Nuevo León</td>\n",
       "      <td>19.4035424706988</td>\n",
       "      <td>-99.171153</td>\n",
       "      <td>2024-09-12 18:12:26.053839</td>\n",
       "      <td>207</td>\n",
       "      <td>192</td>\n",
       "      <td>1103</td>\n",
       "      <td>19.182608695652174</td>\n",
       "      <td>20.68125</td>\n",
       "      <td>2024-09-12</td>\n",
       "    </tr>\n",
       "    <tr>\n",
       "      <th>2</th>\n",
       "      <td>Av. Chapultepec</td>\n",
       "      <td>19.4203408773342</td>\n",
       "      <td>-99.176722</td>\n",
       "      <td>2024-09-12 18:12:27.426248</td>\n",
       "      <td>898</td>\n",
       "      <td>623</td>\n",
       "      <td>3164</td>\n",
       "      <td>12.684187082405346</td>\n",
       "      <td>18.283146067415732</td>\n",
       "      <td>2024-09-12</td>\n",
       "    </tr>\n",
       "    <tr>\n",
       "      <th>3</th>\n",
       "      <td>Cto. Bicentenario</td>\n",
       "      <td>19.4080683386285</td>\n",
       "      <td>-99.184172</td>\n",
       "      <td>2024-09-12 18:12:28.645294</td>\n",
       "      <td>1243</td>\n",
       "      <td>632</td>\n",
       "      <td>5652</td>\n",
       "      <td>16.369428801287206</td>\n",
       "      <td>32.19493670886076</td>\n",
       "      <td>2024-09-12</td>\n",
       "    </tr>\n",
       "    <tr>\n",
       "      <th>4</th>\n",
       "      <td>Av. Tamaulipas</td>\n",
       "      <td>19.4070344162834</td>\n",
       "      <td>-99.178508</td>\n",
       "      <td>2024-09-12 18:12:29.850573</td>\n",
       "      <td>303</td>\n",
       "      <td>286</td>\n",
       "      <td>1575</td>\n",
       "      <td>18.712871287128714</td>\n",
       "      <td>19.825174825174827</td>\n",
       "      <td>2024-09-12</td>\n",
       "    </tr>\n",
       "  </tbody>\n",
       "</table>\n",
       "</div>"
      ],
      "text/plain": [
       "         Street Name           Latitud   Longitud                  Timestamp  \\\n",
       "0    Av. Insurgentes  19.4037031532808 -99.169270 2024-09-12 18:12:24.830314   \n",
       "1     Av. Nuevo León  19.4035424706988 -99.171153 2024-09-12 18:12:26.053839   \n",
       "2    Av. Chapultepec  19.4203408773342 -99.176722 2024-09-12 18:12:27.426248   \n",
       "3  Cto. Bicentenario  19.4080683386285 -99.184172 2024-09-12 18:12:28.645294   \n",
       "4     Av. Tamaulipas  19.4070344162834 -99.178508 2024-09-12 18:12:29.850573   \n",
       "\n",
       "  Current Travel Time (seconds) Free Flow Travel Time (seconds)  \\\n",
       "0                           555                             442   \n",
       "1                           207                             192   \n",
       "2                           898                             623   \n",
       "3                          1243                             632   \n",
       "4                           303                             286   \n",
       "\n",
       "  Distance (meters) Current Speed (km/h) Free Flow Speed (km/h)         dia  \n",
       "0              2252   14.607567567567568     18.342081447963803  2024-09-12  \n",
       "1              1103   19.182608695652174               20.68125  2024-09-12  \n",
       "2              3164   12.684187082405346     18.283146067415732  2024-09-12  \n",
       "3              5652   16.369428801287206      32.19493670886076  2024-09-12  \n",
       "4              1575   18.712871287128714     19.825174825174827  2024-09-12  "
      ]
     },
     "execution_count": 116,
     "metadata": {},
     "output_type": "execute_result"
    }
   ],
   "source": [
    "data.head()"
   ]
  },
  {
   "cell_type": "code",
   "execution_count": 117,
   "metadata": {},
   "outputs": [],
   "source": [
    "data[\"hora\"] = data[\"Timestamp\"].dt.hour"
   ]
  },
  {
   "cell_type": "code",
   "execution_count": 118,
   "metadata": {},
   "outputs": [],
   "source": [
    "# Quitar datos que sean 'desconocidos' en todo el df\n",
    "data = data[data != 'Desconocido']"
   ]
  },
  {
   "cell_type": "code",
   "execution_count": 119,
   "metadata": {},
   "outputs": [],
   "source": [
    "data[\"Current Speed (km/h)\"] = data[\"Current Speed (km/h)\"].astype(float)"
   ]
  },
  {
   "cell_type": "code",
   "execution_count": 120,
   "metadata": {},
   "outputs": [],
   "source": [
    "data[\"dia\"] = data[\"dia\"].astype(str)"
   ]
  },
  {
   "cell_type": "code",
   "execution_count": 121,
   "metadata": {},
   "outputs": [],
   "source": [
    "# solo dejar las columnas Street Name, Current Speed (km/h), dia y hora\n",
    "data = data[[\"Street Name\", \"Current Speed (km/h)\", \"dia\", \"hora\"]]"
   ]
  },
  {
   "cell_type": "code",
   "execution_count": 122,
   "metadata": {},
   "outputs": [],
   "source": [
    "data = data.groupby([\"Street Name\", \"dia\", \"hora\"]).mean()"
   ]
  },
  {
   "cell_type": "code",
   "execution_count": 123,
   "metadata": {},
   "outputs": [
    {
     "data": {
      "text/html": [
       "<div>\n",
       "<style scoped>\n",
       "    .dataframe tbody tr th:only-of-type {\n",
       "        vertical-align: middle;\n",
       "    }\n",
       "\n",
       "    .dataframe tbody tr th {\n",
       "        vertical-align: top;\n",
       "    }\n",
       "\n",
       "    .dataframe thead th {\n",
       "        text-align: right;\n",
       "    }\n",
       "</style>\n",
       "<table border=\"1\" class=\"dataframe\">\n",
       "  <thead>\n",
       "    <tr style=\"text-align: right;\">\n",
       "      <th></th>\n",
       "      <th></th>\n",
       "      <th></th>\n",
       "      <th>Current Speed (km/h)</th>\n",
       "    </tr>\n",
       "    <tr>\n",
       "      <th>Street Name</th>\n",
       "      <th>dia</th>\n",
       "      <th>hora</th>\n",
       "      <th></th>\n",
       "    </tr>\n",
       "  </thead>\n",
       "  <tbody>\n",
       "    <tr>\n",
       "      <th rowspan=\"5\" valign=\"top\">Alfonso Reyes</th>\n",
       "      <th rowspan=\"5\" valign=\"top\">2024-09-12</th>\n",
       "      <th>18</th>\n",
       "      <td>11.457692</td>\n",
       "    </tr>\n",
       "    <tr>\n",
       "      <th>19</th>\n",
       "      <td>10.605239</td>\n",
       "    </tr>\n",
       "    <tr>\n",
       "      <th>20</th>\n",
       "      <td>13.522727</td>\n",
       "    </tr>\n",
       "    <tr>\n",
       "      <th>21</th>\n",
       "      <td>14.853168</td>\n",
       "    </tr>\n",
       "    <tr>\n",
       "      <th>22</th>\n",
       "      <td>15.352941</td>\n",
       "    </tr>\n",
       "    <tr>\n",
       "      <th>...</th>\n",
       "      <th>...</th>\n",
       "      <th>...</th>\n",
       "      <td>...</td>\n",
       "    </tr>\n",
       "    <tr>\n",
       "      <th rowspan=\"5\" valign=\"top\">Salamanca</th>\n",
       "      <th rowspan=\"5\" valign=\"top\">2024-10-02</th>\n",
       "      <th>6</th>\n",
       "      <td>42.800000</td>\n",
       "    </tr>\n",
       "    <tr>\n",
       "      <th>7</th>\n",
       "      <td>40.997283</td>\n",
       "    </tr>\n",
       "    <tr>\n",
       "      <th>8</th>\n",
       "      <td>36.689042</td>\n",
       "    </tr>\n",
       "    <tr>\n",
       "      <th>9</th>\n",
       "      <td>34.705519</td>\n",
       "    </tr>\n",
       "    <tr>\n",
       "      <th>10</th>\n",
       "      <td>35.715659</td>\n",
       "    </tr>\n",
       "  </tbody>\n",
       "</table>\n",
       "<p>8070 rows × 1 columns</p>\n",
       "</div>"
      ],
      "text/plain": [
       "                               Current Speed (km/h)\n",
       "Street Name   dia        hora                      \n",
       "Alfonso Reyes 2024-09-12 18               11.457692\n",
       "                         19               10.605239\n",
       "                         20               13.522727\n",
       "                         21               14.853168\n",
       "                         22               15.352941\n",
       "...                                             ...\n",
       "Salamanca     2024-10-02 6                42.800000\n",
       "                         7                40.997283\n",
       "                         8                36.689042\n",
       "                         9                34.705519\n",
       "                         10               35.715659\n",
       "\n",
       "[8070 rows x 1 columns]"
      ]
     },
     "execution_count": 123,
     "metadata": {},
     "output_type": "execute_result"
    }
   ],
   "source": [
    "data"
   ]
  },
  {
   "cell_type": "code",
   "execution_count": 124,
   "metadata": {},
   "outputs": [],
   "source": [
    "# guardar en un csv\n",
    "data.to_csv(\"velocidades.csv\")"
   ]
  }
 ],
 "metadata": {
  "kernelspec": {
   "display_name": "venv",
   "language": "python",
   "name": "python3"
  },
  "language_info": {
   "codemirror_mode": {
    "name": "ipython",
    "version": 3
   },
   "file_extension": ".py",
   "mimetype": "text/x-python",
   "name": "python",
   "nbconvert_exporter": "python",
   "pygments_lexer": "ipython3",
   "version": "3.12.3"
  }
 },
 "nbformat": 4,
 "nbformat_minor": 2
}
